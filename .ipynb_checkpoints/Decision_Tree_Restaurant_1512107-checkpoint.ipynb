{
 "cells": [
  {
   "cell_type": "code",
   "execution_count": 1,
   "metadata": {},
   "outputs": [
    {
     "data": {
      "text/html": [
       "<div>\n",
       "<style scoped>\n",
       "    .dataframe tbody tr th:only-of-type {\n",
       "        vertical-align: middle;\n",
       "    }\n",
       "\n",
       "    .dataframe tbody tr th {\n",
       "        vertical-align: top;\n",
       "    }\n",
       "\n",
       "    .dataframe thead th {\n",
       "        text-align: right;\n",
       "    }\n",
       "</style>\n",
       "<table border=\"1\" class=\"dataframe\">\n",
       "  <thead>\n",
       "    <tr style=\"text-align: right;\">\n",
       "      <th></th>\n",
       "      <th>Alt</th>\n",
       "      <th>Bar</th>\n",
       "      <th>Fri</th>\n",
       "      <th>Hun</th>\n",
       "      <th>Pat</th>\n",
       "      <th>Price</th>\n",
       "      <th>Rain</th>\n",
       "      <th>Res</th>\n",
       "      <th>Type</th>\n",
       "      <th>Est</th>\n",
       "      <th>Wait</th>\n",
       "    </tr>\n",
       "  </thead>\n",
       "  <tbody>\n",
       "    <tr>\n",
       "      <th>0</th>\n",
       "      <td>Yes</td>\n",
       "      <td>No</td>\n",
       "      <td>No</td>\n",
       "      <td>Yes</td>\n",
       "      <td>Some</td>\n",
       "      <td>£ £ £</td>\n",
       "      <td>No</td>\n",
       "      <td>Yes</td>\n",
       "      <td>French</td>\n",
       "      <td>0-10</td>\n",
       "      <td>Yes</td>\n",
       "    </tr>\n",
       "    <tr>\n",
       "      <th>1</th>\n",
       "      <td>Yes</td>\n",
       "      <td>No</td>\n",
       "      <td>No</td>\n",
       "      <td>Yes</td>\n",
       "      <td>Full</td>\n",
       "      <td>£</td>\n",
       "      <td>No</td>\n",
       "      <td>No</td>\n",
       "      <td>Thai</td>\n",
       "      <td>30-60</td>\n",
       "      <td>No</td>\n",
       "    </tr>\n",
       "    <tr>\n",
       "      <th>2</th>\n",
       "      <td>No</td>\n",
       "      <td>Yes</td>\n",
       "      <td>No</td>\n",
       "      <td>No</td>\n",
       "      <td>Some</td>\n",
       "      <td>£</td>\n",
       "      <td>No</td>\n",
       "      <td>No</td>\n",
       "      <td>Burger</td>\n",
       "      <td>0-10</td>\n",
       "      <td>Yes</td>\n",
       "    </tr>\n",
       "    <tr>\n",
       "      <th>3</th>\n",
       "      <td>Yes</td>\n",
       "      <td>No</td>\n",
       "      <td>Yes</td>\n",
       "      <td>Yes</td>\n",
       "      <td>Full</td>\n",
       "      <td>£</td>\n",
       "      <td>Yes</td>\n",
       "      <td>No</td>\n",
       "      <td>Thai</td>\n",
       "      <td>10-30</td>\n",
       "      <td>Yes</td>\n",
       "    </tr>\n",
       "    <tr>\n",
       "      <th>4</th>\n",
       "      <td>Yes</td>\n",
       "      <td>No</td>\n",
       "      <td>Yes</td>\n",
       "      <td>No</td>\n",
       "      <td>Full</td>\n",
       "      <td>£ £ £</td>\n",
       "      <td>No</td>\n",
       "      <td>Yes</td>\n",
       "      <td>French</td>\n",
       "      <td>&gt;60</td>\n",
       "      <td>No</td>\n",
       "    </tr>\n",
       "    <tr>\n",
       "      <th>5</th>\n",
       "      <td>No</td>\n",
       "      <td>Yes</td>\n",
       "      <td>No</td>\n",
       "      <td>Yes</td>\n",
       "      <td>Some</td>\n",
       "      <td>£ £</td>\n",
       "      <td>Yes</td>\n",
       "      <td>Yes</td>\n",
       "      <td>Italian</td>\n",
       "      <td>0-10</td>\n",
       "      <td>Yes</td>\n",
       "    </tr>\n",
       "    <tr>\n",
       "      <th>6</th>\n",
       "      <td>No</td>\n",
       "      <td>Yes</td>\n",
       "      <td>No</td>\n",
       "      <td>No</td>\n",
       "      <td>None</td>\n",
       "      <td>£</td>\n",
       "      <td>Yes</td>\n",
       "      <td>No</td>\n",
       "      <td>Burger</td>\n",
       "      <td>0-10</td>\n",
       "      <td>No</td>\n",
       "    </tr>\n",
       "    <tr>\n",
       "      <th>7</th>\n",
       "      <td>No</td>\n",
       "      <td>No</td>\n",
       "      <td>No</td>\n",
       "      <td>Yes</td>\n",
       "      <td>Some</td>\n",
       "      <td>£ £</td>\n",
       "      <td>Yes</td>\n",
       "      <td>Yes</td>\n",
       "      <td>Thai</td>\n",
       "      <td>0-10</td>\n",
       "      <td>Yes</td>\n",
       "    </tr>\n",
       "    <tr>\n",
       "      <th>8</th>\n",
       "      <td>No</td>\n",
       "      <td>Yes</td>\n",
       "      <td>Yes</td>\n",
       "      <td>No</td>\n",
       "      <td>Full</td>\n",
       "      <td>£</td>\n",
       "      <td>Yes</td>\n",
       "      <td>No</td>\n",
       "      <td>Burger</td>\n",
       "      <td>&gt;60</td>\n",
       "      <td>No</td>\n",
       "    </tr>\n",
       "    <tr>\n",
       "      <th>9</th>\n",
       "      <td>Yes</td>\n",
       "      <td>Yes</td>\n",
       "      <td>Yes</td>\n",
       "      <td>Yes</td>\n",
       "      <td>Full</td>\n",
       "      <td>£ £ £</td>\n",
       "      <td>No</td>\n",
       "      <td>Yes</td>\n",
       "      <td>Italian</td>\n",
       "      <td>10-30</td>\n",
       "      <td>No</td>\n",
       "    </tr>\n",
       "    <tr>\n",
       "      <th>10</th>\n",
       "      <td>No</td>\n",
       "      <td>No</td>\n",
       "      <td>No</td>\n",
       "      <td>No</td>\n",
       "      <td>None</td>\n",
       "      <td>£</td>\n",
       "      <td>No</td>\n",
       "      <td>No</td>\n",
       "      <td>Thai</td>\n",
       "      <td>0-10</td>\n",
       "      <td>No</td>\n",
       "    </tr>\n",
       "    <tr>\n",
       "      <th>11</th>\n",
       "      <td>Yes</td>\n",
       "      <td>Yes</td>\n",
       "      <td>Yes</td>\n",
       "      <td>Yes</td>\n",
       "      <td>Full</td>\n",
       "      <td>£</td>\n",
       "      <td>No</td>\n",
       "      <td>No</td>\n",
       "      <td>Burger</td>\n",
       "      <td>30-60</td>\n",
       "      <td>Yes</td>\n",
       "    </tr>\n",
       "  </tbody>\n",
       "</table>\n",
       "</div>"
      ],
      "text/plain": [
       "    Alt  Bar  Fri  Hun   Pat  Price Rain  Res     Type    Est Wait\n",
       "0   Yes   No   No  Yes  Some  £ £ £   No  Yes   French   0-10  Yes\n",
       "1   Yes   No   No  Yes  Full      £   No   No     Thai  30-60   No\n",
       "2    No  Yes   No   No  Some      £   No   No   Burger   0-10  Yes\n",
       "3   Yes   No  Yes  Yes  Full      £  Yes   No     Thai  10-30  Yes\n",
       "4   Yes   No  Yes   No  Full  £ £ £   No  Yes   French    >60   No\n",
       "5    No  Yes   No  Yes  Some    £ £  Yes  Yes  Italian   0-10  Yes\n",
       "6    No  Yes   No   No  None      £  Yes   No   Burger   0-10   No\n",
       "7    No   No   No  Yes  Some    £ £  Yes  Yes     Thai   0-10  Yes\n",
       "8    No  Yes  Yes   No  Full      £  Yes   No   Burger    >60   No\n",
       "9   Yes  Yes  Yes  Yes  Full  £ £ £   No  Yes  Italian  10-30   No\n",
       "10   No   No   No   No  None      £   No   No     Thai   0-10   No\n",
       "11  Yes  Yes  Yes  Yes  Full      £   No   No   Burger  30-60  Yes"
      ]
     },
     "execution_count": 1,
     "metadata": {},
     "output_type": "execute_result"
    }
   ],
   "source": [
    "import pandas as pd\n",
    "import numpy as np\n",
    "df = pd.read_csv('data/restaurant_wait.csv')\n",
    "df"
   ]
  },
  {
   "cell_type": "markdown",
   "metadata": {},
   "source": [
    "# Define entropy function"
   ]
  },
  {
   "cell_type": "code",
   "execution_count": 2,
   "metadata": {},
   "outputs": [
    {
     "name": "stdout",
     "output_type": "stream",
     "text": [
      "0.9999998944532363\n",
      "0.9999998944532363\n",
      "2.569830998554196e-06\n"
     ]
    }
   ],
   "source": [
    "def entropy(l_summary):\n",
    "    # normalize\n",
    "    l_summary = l_summary/l_summary.sum(axis=0,keepdims=1)\n",
    "    l_summary += np.finfo(np.float32).eps\n",
    "    \n",
    "    return (-np.sum(l_summary*np.log2(l_summary))) \n",
    "\n",
    "print(entropy(np.array([.5, .5])))\n",
    "print(entropy(np.array([10, 10])))\n",
    "print(entropy(np.array([0, 10 ])))"
   ]
  },
  {
   "cell_type": "markdown",
   "metadata": {},
   "source": [
    "# Calculate Infomation Gain step by step"
   ]
  },
  {
   "cell_type": "code",
   "execution_count": 3,
   "metadata": {},
   "outputs": [
    {
     "data": {
      "text/plain": [
       "Counter({'Yes': 6, 'No': 6})"
      ]
     },
     "execution_count": 3,
     "metadata": {},
     "output_type": "execute_result"
    }
   ],
   "source": [
    "import collections\n",
    "decisions_count = collections.Counter(df[\"Wait\"])\n",
    "decisions_count"
   ]
  },
  {
   "cell_type": "code",
   "execution_count": 4,
   "metadata": {},
   "outputs": [
    {
     "data": {
      "text/plain": [
       "0.9999998944532363"
      ]
     },
     "execution_count": 4,
     "metadata": {},
     "output_type": "execute_result"
    }
   ],
   "source": [
    "Hs = np.array(list(decisions_count.values()), dtype =int)\n",
    "Hs = entropy(Hs)\n",
    "Hs"
   ]
  },
  {
   "cell_type": "code",
   "execution_count": 5,
   "metadata": {},
   "outputs": [
    {
     "data": {
      "text/html": [
       "<div>\n",
       "<style scoped>\n",
       "    .dataframe tbody tr th:only-of-type {\n",
       "        vertical-align: middle;\n",
       "    }\n",
       "\n",
       "    .dataframe tbody tr th {\n",
       "        vertical-align: top;\n",
       "    }\n",
       "\n",
       "    .dataframe thead th {\n",
       "        text-align: right;\n",
       "    }\n",
       "</style>\n",
       "<table border=\"1\" class=\"dataframe\">\n",
       "  <thead>\n",
       "    <tr style=\"text-align: right;\">\n",
       "      <th></th>\n",
       "      <th>Yes</th>\n",
       "      <th>No</th>\n",
       "    </tr>\n",
       "  </thead>\n",
       "  <tbody>\n",
       "    <tr>\n",
       "      <th>£ £ £</th>\n",
       "      <td>0</td>\n",
       "      <td>0</td>\n",
       "    </tr>\n",
       "    <tr>\n",
       "      <th>£</th>\n",
       "      <td>0</td>\n",
       "      <td>0</td>\n",
       "    </tr>\n",
       "    <tr>\n",
       "      <th>£ £</th>\n",
       "      <td>0</td>\n",
       "      <td>0</td>\n",
       "    </tr>\n",
       "  </tbody>\n",
       "</table>\n",
       "</div>"
      ],
      "text/plain": [
       "       Yes  No\n",
       "£ £ £    0   0\n",
       "£        0   0\n",
       "£ £      0   0"
      ]
     },
     "execution_count": 5,
     "metadata": {},
     "output_type": "execute_result"
    }
   ],
   "source": [
    "import numpy as np\n",
    "prices_count = collections.Counter(df[\"Price\"])\n",
    "\n",
    "prices_and_decisions_table = np.zeros(shape=((len(prices_count), len(decisions_count))),dtype=int)\n",
    "prices_and_decisions_table = pd.DataFrame(prices_and_decisions_table, columns= [*decisions_count],\n",
    "                                          index=[*prices_count])\n",
    "\n",
    "\n",
    "prices_and_decisions_table"
   ]
  },
  {
   "cell_type": "code",
   "execution_count": 6,
   "metadata": {},
   "outputs": [
    {
     "data": {
      "text/html": [
       "<div>\n",
       "<style scoped>\n",
       "    .dataframe tbody tr th:only-of-type {\n",
       "        vertical-align: middle;\n",
       "    }\n",
       "\n",
       "    .dataframe tbody tr th {\n",
       "        vertical-align: top;\n",
       "    }\n",
       "\n",
       "    .dataframe thead th {\n",
       "        text-align: right;\n",
       "    }\n",
       "</style>\n",
       "<table border=\"1\" class=\"dataframe\">\n",
       "  <thead>\n",
       "    <tr style=\"text-align: right;\">\n",
       "      <th></th>\n",
       "      <th>Yes</th>\n",
       "      <th>No</th>\n",
       "    </tr>\n",
       "  </thead>\n",
       "  <tbody>\n",
       "    <tr>\n",
       "      <th>£ £ £</th>\n",
       "      <td>1</td>\n",
       "      <td>2</td>\n",
       "    </tr>\n",
       "    <tr>\n",
       "      <th>£</th>\n",
       "      <td>3</td>\n",
       "      <td>4</td>\n",
       "    </tr>\n",
       "    <tr>\n",
       "      <th>£ £</th>\n",
       "      <td>2</td>\n",
       "      <td>0</td>\n",
       "    </tr>\n",
       "  </tbody>\n",
       "</table>\n",
       "</div>"
      ],
      "text/plain": [
       "       Yes  No\n",
       "£ £ £    1   2\n",
       "£        3   4\n",
       "£ £      2   0"
      ]
     },
     "execution_count": 6,
     "metadata": {},
     "output_type": "execute_result"
    }
   ],
   "source": [
    "prices_and_decisions_table[:] = 0\n",
    "\n",
    "for _, each_observation in pd.DataFrame(df, columns=[\"Price\", \"Wait\"]).iterrows():\n",
    "    \n",
    "    prices_and_decisions_table.at[each_observation[\"Price\"], each_observation[\"Wait\"]] += 1\n",
    "\n",
    "    \n",
    "prices_and_decisions_table"
   ]
  },
  {
   "cell_type": "code",
   "execution_count": 7,
   "metadata": {},
   "outputs": [
    {
     "name": "stderr",
     "output_type": "stream",
     "text": [
      "/home/nam/.local/lib/python3.7/site-packages/ipykernel_launcher.py:2: FutureWarning: Method .as_matrix will be removed in a future version. Use .values instead.\n",
      "  \n"
     ]
    },
    {
     "data": {
      "text/plain": [
       "0.8042907186825502"
      ]
     },
     "execution_count": 7,
     "metadata": {},
     "output_type": "execute_result"
    }
   ],
   "source": [
    "total_entropy_values = 0\n",
    "prices_and_decisions = prices_and_decisions_table.as_matrix(columns=None)\n",
    "num_observation = np.sum(prices_and_decisions)\n",
    "prices_and_decisions\n",
    "for each_price_count in prices_and_decisions:\n",
    "    total_entropy_values += entropy(each_price_count)* (sum(each_price_count)+ .0)/num_observation\n",
    "\n",
    "# −(log2(1/3)/3 + log2(2/3)×2/3)×3/12 − (log2(3/7)×3/7 + log2(4/7)×4/7)×7/12 == 0.804\n",
    "# Hs - prices_and_decisions_table\n",
    "total_entropy_values"
   ]
  },
  {
   "cell_type": "code",
   "execution_count": 8,
   "metadata": {},
   "outputs": [],
   "source": [
    "def total_entropy(att_and_decisions_table):\n",
    "    total_entropy_values = 0\n",
    "\n",
    "    num_observation = np.sum(att_and_decisions_table)\n",
    "\n",
    "    for each_att_count in att_and_decisions_table:\n",
    "        total_entropy_values += entropy(each_att_count)* (sum(each_att_count)+ .0)/num_observation\n",
    "    \n",
    "    return total_entropy_values"
   ]
  },
  {
   "cell_type": "markdown",
   "metadata": {},
   "source": [
    "# Create new table for each attribute"
   ]
  },
  {
   "cell_type": "code",
   "execution_count": 9,
   "metadata": {},
   "outputs": [],
   "source": [
    "def create_list_tables(data_frame, target_name):    \n",
    "    decisions_count = collections.Counter(data_frame[target_name])\n",
    "    list_table_count = {}\n",
    "    for each_attribute_name in data_frame:\n",
    "        each_attribute = df[each_attribute_name]\n",
    "        att_count = collections.Counter(each_attribute)\n",
    "\n",
    "        table_with_decisions_table = np.zeros(shape=((len(att_count), len(decisions_count))),dtype=int)\n",
    "\n",
    "        table_with_decisions_table = pd.DataFrame(table_with_decisions_table, columns = [*decisions_count], index=[*att_count])\n",
    "        list_table_count.update({each_attribute_name: table_with_decisions_table})\n",
    "\n",
    "    return list_table_count"
   ]
  },
  {
   "cell_type": "code",
   "execution_count": 10,
   "metadata": {},
   "outputs": [],
   "source": [
    "list_table_count = create_list_tables(data_frame = df, target_name = \"Wait\")"
   ]
  },
  {
   "cell_type": "markdown",
   "metadata": {},
   "source": [
    "# Set each attribute for new table"
   ]
  },
  {
   "cell_type": "code",
   "execution_count": 11,
   "metadata": {},
   "outputs": [],
   "source": [
    "def update_list_tables(data_frame, att_name_list, target_name):    \n",
    "    \n",
    "    for each_attribute_name in att_name_list:\n",
    "        \n",
    "        list_table_count[each_attribute_name][:] = 0\n",
    "        \n",
    "        for _, each_observation in pd.DataFrame(data_frame, columns=[each_attribute_name, target_name]).iterrows():\n",
    "            list_table_count[each_attribute_name].\\\n",
    "            at[each_observation[each_attribute_name], each_observation[target_name]] += 1"
   ]
  },
  {
   "cell_type": "markdown",
   "metadata": {},
   "source": [
    "# Get best attribute"
   ]
  },
  {
   "cell_type": "code",
   "execution_count": 12,
   "metadata": {},
   "outputs": [],
   "source": [
    "att_name_list = [\"Alt\",\"Bar\",\"Fri\",\"Hun\",\"Pat\",\"Price\",\"Rain\",\"Res\",\"Type\",\"Est\"]\n",
    "\n",
    "update_list_tables(data_frame = df, att_name_list = att_name_list, target_name = \"Wait\")"
   ]
  },
  {
   "cell_type": "code",
   "execution_count": 13,
   "metadata": {},
   "outputs": [
    {
     "name": "stderr",
     "output_type": "stream",
     "text": [
      "/home/nam/.local/lib/python3.7/site-packages/ipykernel_launcher.py:5: FutureWarning: Method .as_matrix will be removed in a future version. Use .values instead.\n",
      "  \"\"\"\n"
     ]
    },
    {
     "data": {
      "text/plain": [
       "0.5408507351555574"
      ]
     },
     "execution_count": 13,
     "metadata": {},
     "output_type": "execute_result"
    }
   ],
   "source": [
    "best_infomation_gain = -1\n",
    "\n",
    "best_att = ''\n",
    "for each_att_name in att_name_list:\n",
    "    table_count = list_table_count[each_att_name].as_matrix(columns=None)\n",
    "\n",
    "    total_e = total_entropy(table_count)\n",
    "    IG = Hs - total_e\n",
    "    \n",
    "    if IG > best_infomation_gain:\n",
    "        best_att = each_att_name\n",
    "        best_infomation_gain = Hs - total_e\n",
    "        if total_entropy is 0:\n",
    "            break\n",
    "\n",
    "best_infomation_gain"
   ]
  },
  {
   "cell_type": "markdown",
   "metadata": {},
   "source": [
    "# Create Class"
   ]
  },
  {
   "cell_type": "code",
   "execution_count": 14,
   "metadata": {},
   "outputs": [],
   "source": [
    "def get_best_att(att_name_list, data_frame, target_name):\n",
    "    update_list_tables(data_frame = data_frame, att_name_list = att_name_list, target_name = target_name)\n",
    "    best_infomation_gain = -1\n",
    "\n",
    "    best_att = ''\n",
    "    \n",
    "    for each_att_name in att_name_list:\n",
    "        table_count = list_table_count[each_att_name].as_matrix(columns=None)\n",
    "\n",
    "        total_e = total_entropy(table_count)\n",
    "        IG = Hs - total_e\n",
    "\n",
    "        if IG > best_infomation_gain:\n",
    "            best_att = each_att_name\n",
    "            best_infomation_gain = IG\n",
    "            if total_e < 1e-2:\n",
    "                return (True, best_att, best_infomation_gain)\n",
    "\n",
    "            \n",
    "    return (False, best_att, best_infomation_gain)"
   ]
  },
  {
   "cell_type": "code",
   "execution_count": 15,
   "metadata": {},
   "outputs": [],
   "source": [
    "class Node():\n",
    "    def __init__(self, data,target_name = \"Wait\", att_name_list = \\\n",
    "                 [\"Alt\",\"Bar\",\"Fri\",\"Hun\",\"Pat\",\"Price\",\"Rain\",\"Res\",\"Type\",\"Est\"]):\n",
    "        self.data = data\n",
    "        self.target_name = target_name\n",
    "        self.best_att = -1\n",
    "        self.child = []\n",
    "        self.isLeaf = False\n",
    "        self.min_thresh = 1e-3\n",
    "        self.maxIG = -1\n",
    "        self.minEntropy = 100\n",
    "        \n",
    "    def get_best_att(self):\n",
    "        self.isLeaf, best_att, best_IG = get_best_att(att_name_list, df, target_name= self.target_name)\n",
    "        self.best_att = best_att\n",
    "        self.best_IG  = best_IG\n",
    "        return (best_att, best_IG) \n",
    "    \n",
    "    def split(self, best_attribute):\n",
    "        names = self.data[best_attribute].unique().tolist()   #find unique values\n",
    "        self.child = []\n",
    "        for each_category in names:\n",
    "            eachdata = self.data[self.data[best_attribute]==each_category]\n",
    "            remove_each_column = eachdata.loc[:, eachdata.columns != best_attribute]\n",
    "            self.child.append(Node(data = remove_each_column))\n",
    "            \n",
    "\n",
    "        ## TODO: delete warning    \n",
    "        #self.data = []"
   ]
  },
  {
   "cell_type": "code",
   "execution_count": 16,
   "metadata": {},
   "outputs": [
    {
     "name": "stdout",
     "output_type": "stream",
     "text": [
      "Pat 0.5408507351555574\n"
     ]
    },
    {
     "name": "stderr",
     "output_type": "stream",
     "text": [
      "/home/nam/.local/lib/python3.7/site-packages/ipykernel_launcher.py:8: FutureWarning: Method .as_matrix will be removed in a future version. Use .values instead.\n",
      "  \n"
     ]
    }
   ],
   "source": [
    "root = Node(data = df)\n",
    "root.get_best_att()\n",
    "print(root.best_att, root.best_IG)\n"
   ]
  },
  {
   "cell_type": "code",
   "execution_count": 17,
   "metadata": {},
   "outputs": [
    {
     "data": {
      "text/plain": [
       "'Pat'"
      ]
     },
     "execution_count": 17,
     "metadata": {},
     "output_type": "execute_result"
    }
   ],
   "source": [
    "root.split(root.best_att)\n",
    "root.best_att"
   ]
  },
  {
   "cell_type": "code",
   "execution_count": 21,
   "metadata": {},
   "outputs": [
    {
     "name": "stderr",
     "output_type": "stream",
     "text": [
      "/home/nam/.local/lib/python3.7/site-packages/ipykernel_launcher.py:8: FutureWarning: Method .as_matrix will be removed in a future version. Use .values instead.\n",
      "  \n"
     ]
    },
    {
     "ename": "AttributeError",
     "evalue": "'list' object has no attribute 'isLeaf'",
     "output_type": "error",
     "traceback": [
      "\u001b[0;31m---------------------------------------------------------------------------\u001b[0m",
      "\u001b[0;31mAttributeError\u001b[0m                            Traceback (most recent call last)",
      "\u001b[0;32m<ipython-input-21-57efa8b3ef76>\u001b[0m in \u001b[0;36m<module>\u001b[0;34m()\u001b[0m\n\u001b[1;32m      7\u001b[0m      \u001b[0mvisited_node\u001b[0m \u001b[0;34m=\u001b[0m \u001b[0mstack\u001b[0m\u001b[0;34m.\u001b[0m\u001b[0mpop\u001b[0m\u001b[0;34m(\u001b[0m\u001b[0;34m)\u001b[0m\u001b[0;34m\u001b[0m\u001b[0;34m\u001b[0m\u001b[0m\n\u001b[1;32m      8\u001b[0m \u001b[0;34m\u001b[0m\u001b[0m\n\u001b[0;32m----> 9\u001b[0;31m      \u001b[0;32mif\u001b[0m \u001b[0mvisited_node\u001b[0m\u001b[0;34m.\u001b[0m\u001b[0misLeaf\u001b[0m\u001b[0;34m:\u001b[0m\u001b[0;34m\u001b[0m\u001b[0;34m\u001b[0m\u001b[0m\n\u001b[0m\u001b[1;32m     10\u001b[0m          \u001b[0;32mbreak\u001b[0m\u001b[0;34m\u001b[0m\u001b[0;34m\u001b[0m\u001b[0m\n\u001b[1;32m     11\u001b[0m \u001b[0;34m\u001b[0m\u001b[0m\n",
      "\u001b[0;31mAttributeError\u001b[0m: 'list' object has no attribute 'isLeaf'"
     ]
    }
   ],
   "source": [
    "# DFS\n",
    "root = Node(data = df)\n",
    "root.isLeaf\n",
    "stack = [root]\n",
    "\n",
    "while stack:\n",
    "     visited_node = stack.pop()\n",
    "        \n",
    "     if visited_node:\n",
    "         break\n",
    "            \n",
    "     visited_node.get_best_att()\n",
    "     visited_node.split(visited_node.best_att)\n",
    "     stack.append(visited_node.child)"
   ]
  }
 ],
 "metadata": {
  "kernelspec": {
   "display_name": "Python 3",
   "language": "python",
   "name": "python3"
  },
  "language_info": {
   "codemirror_mode": {
    "name": "ipython",
    "version": 3
   },
   "file_extension": ".py",
   "mimetype": "text/x-python",
   "name": "python",
   "nbconvert_exporter": "python",
   "pygments_lexer": "ipython3",
   "version": "3.7.1"
  }
 },
 "nbformat": 4,
 "nbformat_minor": 2
}
